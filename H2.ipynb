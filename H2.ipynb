{
  "nbformat": 4,
  "nbformat_minor": 0,
  "metadata": {
    "colab": {
      "provenance": []
    },
    "kernelspec": {
      "name": "python3",
      "display_name": "Python 3"
    },
    "language_info": {
      "name": "python"
    }
  },
  "cells": [
    {
      "cell_type": "code",
      "source": [
        "!pip install torch numpy pandas\n",
        "\n",
        "\n",
        "import torch\n",
        "from torch import nn\n",
        "from torch.nn import functional as F\n",
        "import numpy as np\n",
        "from collections import OrderedDict\n",
        "import pandas as pd\n",
        "import matplotlib.pyplot as plt\n",
        "\n",
        "\n",
        "\n",
        "# Function to create the rotation matrix for RoPE embeddings\n",
        "def generate_rotation_matrix(seq_length, embed_dim):\n",
        "    theta = np.arange(embed_dim // 2) / (embed_dim // 2)\n",
        "    theta = 1.0 / (10000 ** theta)\n",
        "    pos = np.arange(seq_length)\n",
        "    pos_theta = np.outer(pos, theta)\n",
        "    cos_pos_theta = np.cos(pos_theta)\n",
        "    sin_pos_theta = np.sin(pos_theta)\n",
        "\n",
        "    rotation_matrix = np.zeros((seq_length, embed_dim))\n",
        "    rotation_matrix[:, 0::2] = cos_pos_theta\n",
        "    rotation_matrix[:, 1::2] = sin_pos_theta\n",
        "\n",
        "    return rotation_matrix"
      ],
      "metadata": {
        "id": "lwNHyfGYi2-p",
        "colab": {
          "base_uri": "https://localhost:8080/",
          "height": 0
        },
        "outputId": "bdaf014b-951e-44ee-a5d9-7032eb73d315"
      },
      "execution_count": 15,
      "outputs": [
        {
          "output_type": "stream",
          "name": "stdout",
          "text": [
            "Requirement already satisfied: torch in /usr/local/lib/python3.10/dist-packages (2.3.0+cu121)\n",
            "Requirement already satisfied: numpy in /usr/local/lib/python3.10/dist-packages (1.25.2)\n",
            "Requirement already satisfied: pandas in /usr/local/lib/python3.10/dist-packages (2.0.3)\n",
            "Requirement already satisfied: filelock in /usr/local/lib/python3.10/dist-packages (from torch) (3.15.3)\n",
            "Requirement already satisfied: typing-extensions>=4.8.0 in /usr/local/lib/python3.10/dist-packages (from torch) (4.12.2)\n",
            "Requirement already satisfied: sympy in /usr/local/lib/python3.10/dist-packages (from torch) (1.12.1)\n",
            "Requirement already satisfied: networkx in /usr/local/lib/python3.10/dist-packages (from torch) (3.3)\n",
            "Requirement already satisfied: jinja2 in /usr/local/lib/python3.10/dist-packages (from torch) (3.1.4)\n",
            "Requirement already satisfied: fsspec in /usr/local/lib/python3.10/dist-packages (from torch) (2023.6.0)\n",
            "Requirement already satisfied: nvidia-cuda-nvrtc-cu12==12.1.105 in /usr/local/lib/python3.10/dist-packages (from torch) (12.1.105)\n",
            "Requirement already satisfied: nvidia-cuda-runtime-cu12==12.1.105 in /usr/local/lib/python3.10/dist-packages (from torch) (12.1.105)\n",
            "Requirement already satisfied: nvidia-cuda-cupti-cu12==12.1.105 in /usr/local/lib/python3.10/dist-packages (from torch) (12.1.105)\n",
            "Requirement already satisfied: nvidia-cudnn-cu12==8.9.2.26 in /usr/local/lib/python3.10/dist-packages (from torch) (8.9.2.26)\n",
            "Requirement already satisfied: nvidia-cublas-cu12==12.1.3.1 in /usr/local/lib/python3.10/dist-packages (from torch) (12.1.3.1)\n",
            "Requirement already satisfied: nvidia-cufft-cu12==11.0.2.54 in /usr/local/lib/python3.10/dist-packages (from torch) (11.0.2.54)\n",
            "Requirement already satisfied: nvidia-curand-cu12==10.3.2.106 in /usr/local/lib/python3.10/dist-packages (from torch) (10.3.2.106)\n",
            "Requirement already satisfied: nvidia-cusolver-cu12==11.4.5.107 in /usr/local/lib/python3.10/dist-packages (from torch) (11.4.5.107)\n",
            "Requirement already satisfied: nvidia-cusparse-cu12==12.1.0.106 in /usr/local/lib/python3.10/dist-packages (from torch) (12.1.0.106)\n",
            "Requirement already satisfied: nvidia-nccl-cu12==2.20.5 in /usr/local/lib/python3.10/dist-packages (from torch) (2.20.5)\n",
            "Requirement already satisfied: nvidia-nvtx-cu12==12.1.105 in /usr/local/lib/python3.10/dist-packages (from torch) (12.1.105)\n",
            "Requirement already satisfied: triton==2.3.0 in /usr/local/lib/python3.10/dist-packages (from torch) (2.3.0)\n",
            "Requirement already satisfied: nvidia-nvjitlink-cu12 in /usr/local/lib/python3.10/dist-packages (from nvidia-cusolver-cu12==11.4.5.107->torch) (12.5.40)\n",
            "Requirement already satisfied: python-dateutil>=2.8.2 in /usr/local/lib/python3.10/dist-packages (from pandas) (2.8.2)\n",
            "Requirement already satisfied: pytz>=2020.1 in /usr/local/lib/python3.10/dist-packages (from pandas) (2023.4)\n",
            "Requirement already satisfied: tzdata>=2022.1 in /usr/local/lib/python3.10/dist-packages (from pandas) (2024.1)\n",
            "Requirement already satisfied: six>=1.5 in /usr/local/lib/python3.10/dist-packages (from python-dateutil>=2.8.2->pandas) (1.16.0)\n",
            "Requirement already satisfied: MarkupSafe>=2.0 in /usr/local/lib/python3.10/dist-packages (from jinja2->torch) (2.1.5)\n",
            "Requirement already satisfied: mpmath<1.4.0,>=1.1.0 in /usr/local/lib/python3.10/dist-packages (from sympy->torch) (1.3.0)\n"
          ]
        }
      ]
    },
    {
      "cell_type": "code",
      "source": [
        "# Custom RMS Normalization layer\n",
        "class RMSNorm(nn.Module):\n",
        "    def __init__(self, layer_dims, epsilon=1e-8):\n",
        "        super().__init__()\n",
        "        self.gamma = nn.Parameter(torch.ones(layer_dims))\n",
        "        self.epsilon = epsilon\n",
        "\n",
        "    def forward(self, tensor_input):\n",
        "        norm = tensor_input.norm(2, dim=-1, keepdim=True)\n",
        "        rms = norm / (tensor_input.size(-1) ** 0.5)\n",
        "        return tensor_input / (rms + self.epsilon) * self.gamma"
      ],
      "metadata": {
        "id": "lR5AJFpqjF6u"
      },
      "execution_count": 16,
      "outputs": []
    },
    {
      "cell_type": "code",
      "source": [
        "# Attention head with RoPE embeddings and masking\n",
        "class AttentionHeadWithRoPE(nn.Module):\n",
        "    def __init__(self, params):\n",
        "        super().__init__()\n",
        "        self.params = params\n",
        "        self.query = nn.Linear(params['embedding_size'], params['embedding_size'], bias=False)\n",
        "        self.key = nn.Linear(params['embedding_size'], params['embedding_size'], bias=False)\n",
        "        self.value = nn.Linear(params['embedding_size'], params['embedding_size'], bias=False)\n",
        "        self.rotation_matrix = torch.tensor(generate_rotation_matrix(params['sequence_length'], params['embedding_size']), dtype=torch.float32).to(params['device'])\n",
        "\n",
        "    def forward(self, data_input, return_attention=False):\n",
        "        batch_size, seq_len, embed_dim = data_input.shape\n",
        "        queries = self.query(data_input)\n",
        "        keys = self.key(data_input)\n",
        "        values = self.value(data_input)\n",
        "\n",
        "        queries = torch.einsum('bse,se->bse', queries, self.rotation_matrix)\n",
        "        keys = torch.einsum('bse,se->bse', keys, self.rotation_matrix)\n",
        "\n",
        "        attention_scores = torch.einsum('bse,bte->bst', queries, keys) / (embed_dim ** 0.5)\n",
        "        attention_weights = F.softmax(attention_scores, dim=-1)\n",
        "\n",
        "        attention_output = torch.einsum('bst,bte->bse', attention_weights, values)\n",
        "        return attention_output"
      ],
      "metadata": {
        "id": "bPGqRdIfjF9X"
      },
      "execution_count": 17,
      "outputs": []
    },
    {
      "cell_type": "code",
      "source": [
        "# Multi-head attention module\n",
        "class MultiHeadAttention(nn.Module):\n",
        "    def __init__(self, params):\n",
        "        super().__init__()\n",
        "        self.params = params\n",
        "        self.attention_heads = nn.ModuleList([AttentionHeadWithRoPE(params) for _ in range(params['attention_heads'])])\n",
        "        self.output_linear = nn.Linear(params['embedding_size'] * params['attention_heads'], params['embedding_size'])\n",
        "        self.dropout = nn.Dropout(params['dropout'])\n",
        "\n",
        "    def forward(self, data_input):\n",
        "        head_outputs = [head(data_input) for head in self.attention_heads]\n",
        "        concatenated_output = torch.cat(head_outputs, dim=-1)\n",
        "        output = self.output_linear(concatenated_output)\n",
        "        output = self.dropout(output)\n",
        "        return output"
      ],
      "metadata": {
        "id": "CvtM5G5DjV_I"
      },
      "execution_count": 18,
      "outputs": []
    },
    {
      "cell_type": "code",
      "source": [
        "\n",
        "# Swish-Gated Linear Unit (SiGLU) activation function\n",
        "class SwishGLU(nn.Module):\n",
        "    def __init__(self, size):\n",
        "        super().__init__()\n",
        "        self.linear_gate = nn.Linear(size, size)\n",
        "        self.linear = nn.Linear(size, size)\n",
        "        self.beta = nn.Parameter(torch.ones(1))\n",
        "\n",
        "    def forward(self, data_input):\n",
        "        gate_output = self.linear_gate(data_input)\n",
        "        linear_output = self.linear(data_input)\n",
        "        return linear_output * torch.sigmoid(self.beta * gate_output)"
      ],
      "metadata": {
        "id": "_dPfT-R6jGAf"
      },
      "execution_count": 19,
      "outputs": []
    },
    {
      "cell_type": "code",
      "source": [
        "# Transformer block consisting of attention and feedforward layers\n",
        "class LLamaBlock(nn.Module):\n",
        "    def __init__(self, params):\n",
        "        super().__init__()\n",
        "        self.norm1 = RMSNorm(params['embedding_size'])\n",
        "        self.attention = MultiHeadAttention(params)\n",
        "        self.norm2 = RMSNorm(params['embedding_size'])\n",
        "        self.feedforward = nn.Sequential(\n",
        "            nn.Linear(params['embedding_size'], params['embedding_size']),\n",
        "            SwishGLU(params['embedding_size']),\n",
        "            nn.Linear(params['embedding_size'], params['embedding_size'])\n",
        "        )\n",
        "\n",
        "    def forward(self, data_input):\n",
        "        data_input = data_input + self.attention(self.norm1(data_input))\n",
        "        data_input = data_input + self.feedforward(self.norm2(data_input))\n",
        "        return data_input"
      ],
      "metadata": {
        "id": "B0tOMYGWjGDX"
      },
      "execution_count": 20,
      "outputs": []
    },
    {
      "cell_type": "code",
      "source": [
        "# LLaMA-like language model\n",
        "class LLama(nn.Module):\n",
        "    def __init__(self, params):\n",
        "        super().__init__()\n",
        "        self.params = params\n",
        "        self.embedding = nn.Embedding(params['vocab_size'], params['embedding_size'])\n",
        "        self.blocks = nn.Sequential(OrderedDict([\n",
        "            (f\"block_{i}\", LLamaBlock(params)) for i in range(params['transformer_blocks'])\n",
        "        ]))\n",
        "        self.norm = RMSNorm(params['embedding_size'])\n",
        "        self.output_linear = nn.Linear(params['embedding_size'], params['vocab_size'])\n",
        "\n",
        "        print(\"Model parameters:\", sum([p.numel() for p in self.parameters()]))\n",
        "\n",
        "    def forward(self, input_ids, target_ids=None):\n",
        "        embeddings = self.embedding(input_ids)\n",
        "        data_output = self.blocks(embeddings)\n",
        "        data_output = self.norm(data_output)\n",
        "        logits = self.output_linear(data_output)\n",
        "\n",
        "        if target_ids is not None:\n",
        "            loss = F.cross_entropy(logits.view(-1, logits.size(-1)), target_ids.view(-1))\n",
        "            return logits, loss\n",
        "\n",
        "        return logits, None"
      ],
      "metadata": {
        "id": "WrhhoIYmjGF4"
      },
      "execution_count": 21,
      "outputs": []
    },
    {
      "cell_type": "code",
      "source": [
        "# Data preprocessing function\n",
        "def prepare_data(file_path):\n",
        "    with open(file_path, 'r') as file:\n",
        "        text = file.read()\n",
        "\n",
        "    chars = list(set(text))\n",
        "    char_to_idx = {ch: i for i, ch in enumerate(chars)}\n",
        "    idx_to_char = {i: ch for i, ch in enumerate(chars)}\n",
        "\n",
        "    data_tensor = torch.tensor([char_to_idx[ch] for ch in text], dtype=torch.long)\n",
        "    return data_tensor, len(chars)\n",
        "\n",
        "# Function to create training batches\n",
        "def batch_generator(data, split, batch_size, seq_len, params):\n",
        "    data_size = len(data)\n",
        "    if split == \"train\":\n",
        "        data = data[:int(0.8 * data_size)]\n",
        "    elif split == \"validation\":\n",
        "        data = data[int(0.8 * data_size):int(0.9 * data_size)]\n",
        "    else:\n",
        "        data = data[int(0.9 * data_size):]\n",
        "\n",
        "    total_batches = len(data) // (batch_size * seq_len)\n",
        "    input_sequences = []\n",
        "    target_sequences = []\n",
        "\n",
        "    for _ in range(batch_size):\n",
        "        start_idx = np.random.randint(0, len(data) - seq_len - 1)\n",
        "        input_seq = data[start_idx:start_idx + seq_len]\n",
        "        target_seq = data[start_idx + 1:start_idx + seq_len + 1]\n",
        "        input_sequences.append(input_seq)\n",
        "        target_sequences.append(target_seq)\n",
        "\n",
        "    return torch.stack(input_sequences), torch.stack(target_sequences)"
      ],
      "metadata": {
        "id": "XN7dKtlOqD5p"
      },
      "execution_count": 22,
      "outputs": []
    },
    {
      "cell_type": "code",
      "source": [
        "# Function to evaluate model loss\n",
        "@torch.no_grad()\n",
        "def eval_loss(model, dataset, params):\n",
        "    results = {}\n",
        "    model.eval()\n",
        "    for split in [\"train\", \"validation\"]:\n",
        "        batch_losses = []\n",
        "        for _ in range(10):\n",
        "            input_batch, target_batch = batch_generator(dataset, split, params['training_batch'], params['sequence_length'], params)\n",
        "            input_batch = input_batch.to(device)\n",
        "            target_batch = target_batch.to(device)\n",
        "            _, batch_loss = model(input_batch, target_batch)\n",
        "            batch_losses.append(batch_loss.item())\n",
        "        results[split] = np.mean(batch_losses)\n",
        "    model.train()\n",
        "    return results"
      ],
      "metadata": {
        "id": "FsCcVecxmZS9"
      },
      "execution_count": 23,
      "outputs": []
    },
    {
      "cell_type": "code",
      "source": [
        "# Training loop\n",
        "import time\n",
        "def train_model(model, optimizer, dataset, params, scheduler=None):\n",
        "    all_losses = []\n",
        "    start = time.time()\n",
        "    for epoch in range(params['training_epochs']):\n",
        "        optimizer.zero_grad()\n",
        "        input_batch, target_batch = batch_generator(dataset, 'train', params['training_batch'], params['sequence_length'], params)\n",
        "\n",
        "        input_batch = input_batch.to(device)\n",
        "        target_batch = target_batch.to(device)\n",
        "        _, batch_loss = model(input_batch, target_batch)\n",
        "        batch_loss.backward()\n",
        "        optimizer.step()\n",
        "\n",
        "        if scheduler:\n",
        "            scheduler.step()\n",
        "\n",
        "        if (epoch + 1) % params['logging_frequency'] == 0:\n",
        "            time_elapsed = time.time() - start\n",
        "            evaluation_result = eval_loss(model, dataset, params)\n",
        "            all_losses.append(evaluation_result)\n",
        "            print(\n",
        "                f\"Epoch {epoch + 1}/{params['training_epochs']} | \"\n",
        "                f\"Validation Loss: {evaluation_result['validation']:.4f} | \"\n",
        "                f\"Time: {time_elapsed:.2f}s\"\n",
        "            )\n",
        "            start = time.time()\n",
        "            if scheduler:\n",
        "                print(\"lr: \", scheduler.get_lr())\n",
        "\n",
        "    print(\"Final Validation Loss: \", all_losses[-1]['validation'])\n",
        "    return pd.DataFrame(all_losses).plot()"
      ],
      "metadata": {
        "id": "0XmhO4cGmiKe"
      },
      "execution_count": 24,
      "outputs": []
    },
    {
      "cell_type": "code",
      "source": [
        "# Load and process the dataset\n",
        "# Check GPU availability and set device\n",
        "if torch.cuda.is_available():\n",
        "    device = torch.device('cuda')\n",
        "    print(\"Using GPU for training.\")\n",
        "else:\n",
        "    device = torch.device('cpu')\n",
        "    print(\"GPU not found, using CPU for training.\")\n",
        "# Load and process the dataset\n",
        "data_path = \"/content/input.txt\"\n",
        "dataset, vocab_size = prepare_data(data_path)\n",
        "\n",
        "# Configuration for the language model\n",
        "MODEL_PARAMS = {\n",
        "    'vocab_size': vocab_size,\n",
        "    'embedding_size': 128,\n",
        "    'attention_heads': 8,\n",
        "    'sequence_length': 64,\n",
        "    'transformer_blocks': 6,\n",
        "    'training_batch': 64,\n",
        "    'training_epochs': 100,\n",
        "    'logging_frequency': 10,\n",
        "    'dropout': 0.1,\n",
        "    'device': device\n",
        "}\n",
        "\n",
        "\n",
        "\n",
        "# Create the language model\n",
        "if torch.cuda.device_count() > 1:\n",
        "    print(f\"Distributing training across {torch.cuda.device_count()} GPUs.\")\n",
        "    model = nn.DataParallel(LLama(MODEL_PARAMS)).to(device)\n",
        "else:\n",
        "    model = LLama(MODEL_PARAMS).to(device)\n",
        "\n",
        "# Move the dataset to the selected device\n",
        "dataset = dataset.to(device)\n",
        "\n",
        "# Create the optimizer\n",
        "optimizer = torch.optim.Adam(model.parameters())\n",
        "\n",
        "# Start training\n",
        "train_model(model, optimizer, dataset, MODEL_PARAMS)\n"
      ],
      "metadata": {
        "id": "ZzTD03mmmkYr",
        "colab": {
          "base_uri": "https://localhost:8080/",
          "height": 673
        },
        "outputId": "73eee739-25ac-41cb-8ee1-8a9ffe7d8517"
      },
      "execution_count": 25,
      "outputs": [
        {
          "output_type": "stream",
          "name": "stdout",
          "text": [
            "GPU not found, using CPU for training.\n",
            "Model parameters: 3567841\n",
            "Epoch 10/100 | Validation Loss: 3.2463 | Time: 36.13s\n",
            "Epoch 20/100 | Validation Loss: 3.0020 | Time: 34.98s\n",
            "Epoch 30/100 | Validation Loss: 2.6842 | Time: 34.65s\n",
            "Epoch 40/100 | Validation Loss: 1.9638 | Time: 34.69s\n",
            "Epoch 50/100 | Validation Loss: 1.2374 | Time: 33.98s\n",
            "Epoch 60/100 | Validation Loss: 0.7953 | Time: 36.06s\n",
            "Epoch 70/100 | Validation Loss: 0.5447 | Time: 34.80s\n",
            "Epoch 80/100 | Validation Loss: 0.3860 | Time: 34.41s\n",
            "Epoch 90/100 | Validation Loss: 0.3157 | Time: 33.58s\n",
            "Epoch 100/100 | Validation Loss: 0.2475 | Time: 34.35s\n",
            "Final Validation Loss:  0.24753210544586182\n"
          ]
        },
        {
          "output_type": "execute_result",
          "data": {
            "text/plain": [
              "<Axes: >"
            ]
          },
          "metadata": {},
          "execution_count": 25
        },
        {
          "output_type": "display_data",
          "data": {
            "text/plain": [
              "<Figure size 640x480 with 1 Axes>"
            ],
            "image/png": "[encoded data removed]"
          },
          "metadata": {}
        }
      ]
    }
  ]
}